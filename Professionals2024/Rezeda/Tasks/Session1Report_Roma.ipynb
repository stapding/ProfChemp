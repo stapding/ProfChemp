{
 "cells": [
  {
   "cell_type": "markdown",
   "metadata": {},
   "source": [
    "# Модуль 1 Парсинг и предобработка данных"
   ]
  },
  {
   "cell_type": "code",
   "execution_count": 230,
   "metadata": {},
   "outputs": [],
   "source": [
    "#импорт библиотек\n",
    "import glob\n",
    "import os\n",
    "import pandas as pd\n",
    "import numpy as np\n",
    "import json\n",
    "import docx\n",
    "from bs4 import BeautifulSoup as bs\n",
    "import requests\n",
    "from tqdm.auto import tqdm, trange\n",
    "from pymystem3 import Mystem\n",
    "from nltk.stem.snowball import SnowballStemmer \n",
    "from nltk.tokenize import word_tokenize\n",
    "from nltk.stem import *\n",
    "from nltk.corpus import stopwords\n",
    "import string\n",
    "import re\n",
    "import pyLDAvis.sklearn\n",
    "import pyLDAvis\n",
    "import pyLDAvis.lda_model\n",
    "import pymorphy2\n",
    "import warnings\n",
    "warnings.filterwarnings(\"ignore\")\n",
    "import nltk\n",
    "from nltk.stem import WordNetLemmatizer\n",
    "from sklearn.feature_extraction.text import CountVectorizer\n",
    "from sklearn.feature_extraction.text import TfidfVectorizer\n",
    "from sklearn.decomposition import LatentDirichletAllocation\n",
    "from gensim.models import Word2Vec\n",
    "import pylab\n",
    "import scipy.stats as stats\n",
    "from sklearn import preprocessing\n",
    "import seaborn as sns"
   ]
  },
  {
   "cell_type": "markdown",
   "metadata": {},
   "source": [
    "# 1.1 Парсинг данных"
   ]
  },
  {
   "cell_type": "markdown",
   "metadata": {},
   "source": [
    "## 1.1.1 Париснг json файлов"
   ]
  },
  {
   "cell_type": "code",
   "execution_count": 125,
   "metadata": {},
   "outputs": [],
   "source": [
    "alljson = glob.glob(\"*.json\")"
   ]
  },
  {
   "cell_type": "code",
   "execution_count": 126,
   "metadata": {},
   "outputs": [
    {
     "data": {
      "text/plain": [
       "['Cybersport.Metaratings.json',\n",
       " 'ESforce Holding.json',\n",
       " 'Gett.json',\n",
       " 'Goose Gaming.json',\n",
       " 'MMA.Metaratings.json',\n",
       " 'skillbox.json',\n",
       " 'Vinci Agency.json',\n",
       " 'Гэллэри Сервис.json',\n",
       " 'Здоровье.ру.json',\n",
       " 'Иннотех.json',\n",
       " 'Проект по использованию технологий компьютерного зрения на базе искусственного интеллекта для анализа медицинских изображений.json',\n",
       " 'Промобот.json',\n",
       " 'Студия Артемия Лебедева.json',\n",
       " 'Федерация креативных индустрий.json']"
      ]
     },
     "execution_count": 126,
     "metadata": {},
     "output_type": "execute_result"
    }
   ],
   "source": [
    "alljson"
   ]
  },
  {
   "cell_type": "markdown",
   "metadata": {},
   "source": [
    "С помощью библиотеки glob создал список всех файлов формата json"
   ]
  },
  {
   "cell_type": "code",
   "execution_count": 127,
   "metadata": {},
   "outputs": [],
   "source": [
    "result_list = {'namecompany': [], 'text': [], 'ratingarticle': [], 'date': [], 'rating': [], 'industries': [], 'about': []}"
   ]
  },
  {
   "cell_type": "markdown",
   "metadata": {},
   "source": [
    "Создан словарь для заполнения его набором данных"
   ]
  },
  {
   "cell_type": "code",
   "execution_count": 128,
   "metadata": {},
   "outputs": [],
   "source": [
    "for i in range(len(alljson)):\n",
    "    with open(alljson[i], \"r\", encoding=\"utf-8\") as file:\n",
    "        articles_json = file.read()\n",
    "    articles = json.loads(articles_json)\n",
    "    if(articles['info'] != None): #если в json файле содержится информация о компании\n",
    "        for k in range(len(articles['info'])):\n",
    "            n = articles['info']\n",
    "            result_list['rating'].append(n['rate']) #добавление рейтинга компании\n",
    "            result_list['industries'].append(n['industries']) #добавление отраслей компании\n",
    "            result_list['about'].append(n['about']) #добавление описания компании\n",
    "        for v in range(len(articles['refs']) - len(articles['info'])): #заполнение осатвшихся статей\n",
    "            result_list['rating'].append(np.nan)\n",
    "            result_list['industries'].append(np.nan)\n",
    "            result_list['about'].append(np.nan)\n",
    "    else: #если в json файле не содержится информации о компании\n",
    "        for l in range(len(articles['refs'])):\n",
    "            result_list['rating'].append(np.nan)\n",
    "            result_list['industries'].append(np.nan)\n",
    "            result_list['about'].append(np.nan)\n",
    "    for j in range(len(articles['refs'])): #заполенение словаря информацией о статьи\n",
    "            n = articles['refs'][j]\n",
    "            if(n is not None):\n",
    "                aa = alljson[i]\n",
    "                spl = aa.split('.')\n",
    "                for p in spl:\n",
    "                    if p == 'json':\n",
    "                        spl.remove(p)\n",
    "                aa = '.'.join(spl)\n",
    "                result_list['namecompany'].append(aa) #добавление названии компании\n",
    "                result_list['text'].append(n[0]) #добавление текста статьи\n",
    "                result_list['ratingarticle'].append(n[2]['rate']) #добавление рейтинга статьи\n",
    "                result_list['date'].append(n[1]['day'] + ' ' + n[1]['month'] + ' ' + n[1]['time']) #добавление даты публикации статьи\n",
    "            else:\n",
    "                result_list['namecompany'].append(np.nan)\n",
    "                result_list['text'].append(np.nan)\n",
    "                result_list['ratingarticle'].append(np.nan)\n",
    "                result_list['date'].append(np.nan)"
   ]
  },
  {
   "cell_type": "code",
   "execution_count": 129,
   "metadata": {},
   "outputs": [],
   "source": [
    "df = pd.DataFrame(data=result_list)"
   ]
  },
  {
   "cell_type": "code",
   "execution_count": 130,
   "metadata": {},
   "outputs": [
    {
     "data": {
      "text/html": [
       "<div>\n",
       "<style scoped>\n",
       "    .dataframe tbody tr th:only-of-type {\n",
       "        vertical-align: middle;\n",
       "    }\n",
       "\n",
       "    .dataframe tbody tr th {\n",
       "        vertical-align: top;\n",
       "    }\n",
       "\n",
       "    .dataframe thead th {\n",
       "        text-align: right;\n",
       "    }\n",
       "</style>\n",
       "<table border=\"1\" class=\"dataframe\">\n",
       "  <thead>\n",
       "    <tr style=\"text-align: right;\">\n",
       "      <th></th>\n",
       "      <th>namecompany</th>\n",
       "      <th>text</th>\n",
       "      <th>ratingarticle</th>\n",
       "      <th>date</th>\n",
       "      <th>rating</th>\n",
       "      <th>industries</th>\n",
       "      <th>about</th>\n",
       "    </tr>\n",
       "  </thead>\n",
       "  <tbody>\n",
       "    <tr>\n",
       "      <th>0</th>\n",
       "      <td>Cybersport.Metaratings</td>\n",
       "      <td>7 декабря состоялась церемония награждения лау...</td>\n",
       "      <td>6.0</td>\n",
       "      <td>8 декабря 09:30</td>\n",
       "      <td>NaN</td>\n",
       "      <td>NaN</td>\n",
       "      <td>NaN</td>\n",
       "    </tr>\n",
       "    <tr>\n",
       "      <th>1</th>\n",
       "      <td>ESforce Holding</td>\n",
       "      <td>7 декабря состоялась церемония награждения лау...</td>\n",
       "      <td>6.0</td>\n",
       "      <td>8 декабря 09:30</td>\n",
       "      <td>NaN</td>\n",
       "      <td>NaN</td>\n",
       "      <td>NaN</td>\n",
       "    </tr>\n",
       "    <tr>\n",
       "      <th>2</th>\n",
       "      <td>ESforce Holding</td>\n",
       "      <td>Из совместного исследования издателя компьютер...</td>\n",
       "      <td>12.0</td>\n",
       "      <td>29 июля 13:50</td>\n",
       "      <td>NaN</td>\n",
       "      <td>NaN</td>\n",
       "      <td>NaN</td>\n",
       "    </tr>\n",
       "    <tr>\n",
       "      <th>3</th>\n",
       "      <td>ESforce Holding</td>\n",
       "      <td>По статистике The Esports Observer за I полови...</td>\n",
       "      <td>18.0</td>\n",
       "      <td>9 июля 09:33</td>\n",
       "      <td>NaN</td>\n",
       "      <td>NaN</td>\n",
       "      <td>NaN</td>\n",
       "    </tr>\n",
       "    <tr>\n",
       "      <th>4</th>\n",
       "      <td>ESforce Holding</td>\n",
       "      <td>Компании SuperData Research и PayPal провели с...</td>\n",
       "      <td>11.0</td>\n",
       "      <td>11 апреля 12:43</td>\n",
       "      <td>NaN</td>\n",
       "      <td>NaN</td>\n",
       "      <td>NaN</td>\n",
       "    </tr>\n",
       "  </tbody>\n",
       "</table>\n",
       "</div>"
      ],
      "text/plain": [
       "              namecompany                                               text  \\\n",
       "0  Cybersport.Metaratings  7 декабря состоялась церемония награждения лау...   \n",
       "1         ESforce Holding  7 декабря состоялась церемония награждения лау...   \n",
       "2         ESforce Holding  Из совместного исследования издателя компьютер...   \n",
       "3         ESforce Holding  По статистике The Esports Observer за I полови...   \n",
       "4         ESforce Holding  Компании SuperData Research и PayPal провели с...   \n",
       "\n",
       "   ratingarticle             date  rating industries about  \n",
       "0            6.0  8 декабря 09:30     NaN        NaN   NaN  \n",
       "1            6.0  8 декабря 09:30     NaN        NaN   NaN  \n",
       "2           12.0    29 июля 13:50     NaN        NaN   NaN  \n",
       "3           18.0     9 июля 09:33     NaN        NaN   NaN  \n",
       "4           11.0  11 апреля 12:43     NaN        NaN   NaN  "
      ]
     },
     "execution_count": 130,
     "metadata": {},
     "output_type": "execute_result"
    }
   ],
   "source": [
    "df.head()"
   ]
  },
  {
   "cell_type": "markdown",
   "metadata": {},
   "source": [
    "Получен набор данных из json файлов. Можно заметить, что во многих записей отсутствует информация о компании, а именно рейтинг компании, отрасли и описание."
   ]
  },
  {
   "cell_type": "markdown",
   "metadata": {},
   "source": [
    "## 1.1.2 Парсинг с сайта habr"
   ]
  },
  {
   "cell_type": "code",
   "execution_count": 131,
   "metadata": {},
   "outputs": [],
   "source": [
    "content = docx.Document('Condidates.docx').paragraphs"
   ]
  },
  {
   "cell_type": "code",
   "execution_count": 132,
   "metadata": {},
   "outputs": [
    {
     "data": {
      "text/plain": [
       "['Здоровье.ру',\n",
       " 'Проект по использованию технологий компьютерного зрения на базе искусственного интеллекта (ИИ) для анализа медицинских изображений',\n",
       " 'Skillbox ',\n",
       " 'Gett',\n",
       " 'Промобот',\n",
       " 'Иннотех',\n",
       " 'Cybersport.Metaratings',\n",
       " 'MMA.Metaratings',\n",
       " 'Goose Gaming',\n",
       " 'ESforce Holding',\n",
       " 'Vinci Agency',\n",
       " 'Гэллэри Сервис',\n",
       " 'Студия Артемия Лебедева',\n",
       " 'Федерация креативных индустрий',\n",
       " 'Метарейтинг',\n",
       " 'СберМаркет',\n",
       " 'Balance Platform',\n",
       " 'Московская биржа',\n",
       " 'Samsung Electronics',\n",
       " 'Нетология',\n",
       " 'Дневник МЭШ',\n",
       " 'Цифровое образование']"
      ]
     },
     "execution_count": 132,
     "metadata": {},
     "output_type": "execute_result"
    }
   ],
   "source": [
    "companies = []\n",
    "for i in range(len(content)):\n",
    "    if(content[i].text != ''):\n",
    "        companies.append(content[i].text)\n",
    "companies"
   ]
  },
  {
   "cell_type": "markdown",
   "metadata": {},
   "source": [
    "Заполнил список компаний, которые участвуют в конкурсе из файла Condidates.docx"
   ]
  },
  {
   "cell_type": "code",
   "execution_count": 133,
   "metadata": {},
   "outputs": [
    {
     "name": "stdout",
     "output_type": "stream",
     "text": [
      "['Проект по использованию технологий компьютерного зрения на базе искусственного интеллекта (ИИ) для анализа медицинских изображений', 'Skillbox ', 'Метарейтинг', 'СберМаркет', 'Balance Platform', 'Московская биржа', 'Samsung Electronics', 'Нетология', 'Дневник МЭШ', 'Цифровое образование']\n"
     ]
    }
   ],
   "source": [
    "compnotjson = []\n",
    "for i in range(len(companies)):\n",
    "    if companies[i] + '.json' not in alljson:\n",
    "        compnotjson.append(companies[i])\n",
    "print(compnotjson)"
   ]
  },
  {
   "cell_type": "markdown",
   "metadata": {},
   "source": [
    "Список компаний, по которым нет информации в json файлах"
   ]
  },
  {
   "cell_type": "code",
   "execution_count": 134,
   "metadata": {},
   "outputs": [],
   "source": [
    "from datetime import date\n",
    "datelimit = date(2022, 1, 1)"
   ]
  },
  {
   "cell_type": "code",
   "execution_count": 135,
   "metadata": {},
   "outputs": [
    {
     "data": {
      "text/plain": [
       "2022"
      ]
     },
     "execution_count": 135,
     "metadata": {},
     "output_type": "execute_result"
    }
   ],
   "source": [
    "datelimit.year"
   ]
  },
  {
   "cell_type": "code",
   "execution_count": 136,
   "metadata": {},
   "outputs": [
    {
     "data": {
      "application/vnd.jupyter.widget-view+json": {
       "model_id": "e6ac4496f2ce42bb91d70cbb0760faf1",
       "version_major": 2,
       "version_minor": 0
      },
      "text/plain": [
       "  0%|          | 0/10 [00:00<?, ?it/s]"
      ]
     },
     "metadata": {},
     "output_type": "display_data"
    },
    {
     "data": {
      "application/vnd.jupyter.widget-view+json": {
       "model_id": "d7b6d0f7963d4ea59d70d92e840345ed",
       "version_major": 2,
       "version_minor": 0
      },
      "text/plain": [
       "  0%|          | 0/9 [00:00<?, ?it/s]"
      ]
     },
     "metadata": {},
     "output_type": "display_data"
    },
    {
     "data": {
      "application/vnd.jupyter.widget-view+json": {
       "model_id": "76eaa6304c5b46f18a7ecda0fe32e3b6",
       "version_major": 2,
       "version_minor": 0
      },
      "text/plain": [
       "0it [00:00, ?it/s]"
      ]
     },
     "metadata": {},
     "output_type": "display_data"
    },
    {
     "data": {
      "application/vnd.jupyter.widget-view+json": {
       "model_id": "de59388434734eccaa8070b682298744",
       "version_major": 2,
       "version_minor": 0
      },
      "text/plain": [
       "  0%|          | 0/20 [00:00<?, ?it/s]"
      ]
     },
     "metadata": {},
     "output_type": "display_data"
    },
    {
     "data": {
      "application/vnd.jupyter.widget-view+json": {
       "model_id": "e704e124bf23482daa11e6d2dd85150e",
       "version_major": 2,
       "version_minor": 0
      },
      "text/plain": [
       "  0%|          | 0/20 [00:00<?, ?it/s]"
      ]
     },
     "metadata": {},
     "output_type": "display_data"
    },
    {
     "data": {
      "application/vnd.jupyter.widget-view+json": {
       "model_id": "dee9373868714ea3834d5752ac54cf86",
       "version_major": 2,
       "version_minor": 0
      },
      "text/plain": [
       "  0%|          | 0/20 [00:00<?, ?it/s]"
      ]
     },
     "metadata": {},
     "output_type": "display_data"
    },
    {
     "data": {
      "application/vnd.jupyter.widget-view+json": {
       "model_id": "21b1c487af894c01838324b9b79376ee",
       "version_major": 2,
       "version_minor": 0
      },
      "text/plain": [
       "  0%|          | 0/20 [00:00<?, ?it/s]"
      ]
     },
     "metadata": {},
     "output_type": "display_data"
    },
    {
     "data": {
      "application/vnd.jupyter.widget-view+json": {
       "model_id": "5fabf4a55bc24f9297f3ff2ef8530588",
       "version_major": 2,
       "version_minor": 0
      },
      "text/plain": [
       "  0%|          | 0/20 [00:00<?, ?it/s]"
      ]
     },
     "metadata": {},
     "output_type": "display_data"
    },
    {
     "data": {
      "application/vnd.jupyter.widget-view+json": {
       "model_id": "0750860ce1eb474d9202289d757fea27",
       "version_major": 2,
       "version_minor": 0
      },
      "text/plain": [
       "  0%|          | 0/20 [00:00<?, ?it/s]"
      ]
     },
     "metadata": {},
     "output_type": "display_data"
    },
    {
     "data": {
      "application/vnd.jupyter.widget-view+json": {
       "model_id": "9724e57378db4f9e89dbe3f74ad78a97",
       "version_major": 2,
       "version_minor": 0
      },
      "text/plain": [
       "  0%|          | 0/18 [00:00<?, ?it/s]"
      ]
     },
     "metadata": {},
     "output_type": "display_data"
    },
    {
     "data": {
      "application/vnd.jupyter.widget-view+json": {
       "model_id": "e909466cf41e404dbeabe1224cfb207d",
       "version_major": 2,
       "version_minor": 0
      },
      "text/plain": [
       "  0%|          | 0/20 [00:00<?, ?it/s]"
      ]
     },
     "metadata": {},
     "output_type": "display_data"
    },
    {
     "data": {
      "application/vnd.jupyter.widget-view+json": {
       "model_id": "632649fe8dd44bb0be743e275abe1a53",
       "version_major": 2,
       "version_minor": 0
      },
      "text/plain": [
       "  0%|          | 0/21 [00:00<?, ?it/s]"
      ]
     },
     "metadata": {},
     "output_type": "display_data"
    },
    {
     "data": {
      "application/vnd.jupyter.widget-view+json": {
       "model_id": "048528e4a3e543c7895e477e707d6e88",
       "version_major": 2,
       "version_minor": 0
      },
      "text/plain": [
       "0it [00:00, ?it/s]"
      ]
     },
     "metadata": {},
     "output_type": "display_data"
    },
    {
     "data": {
      "application/vnd.jupyter.widget-view+json": {
       "model_id": "4e26f009a2fa4cc993725b223ed81a0f",
       "version_major": 2,
       "version_minor": 0
      },
      "text/plain": [
       "  0%|          | 0/20 [00:00<?, ?it/s]"
      ]
     },
     "metadata": {},
     "output_type": "display_data"
    },
    {
     "data": {
      "application/vnd.jupyter.widget-view+json": {
       "model_id": "55749f37fa91442fb91fc051b3906f8d",
       "version_major": 2,
       "version_minor": 0
      },
      "text/plain": [
       "  0%|          | 0/20 [00:00<?, ?it/s]"
      ]
     },
     "metadata": {},
     "output_type": "display_data"
    },
    {
     "data": {
      "application/vnd.jupyter.widget-view+json": {
       "model_id": "539a8d0715fb48bfb404a36d601eb302",
       "version_major": 2,
       "version_minor": 0
      },
      "text/plain": [
       "  0%|          | 0/20 [00:00<?, ?it/s]"
      ]
     },
     "metadata": {},
     "output_type": "display_data"
    },
    {
     "data": {
      "application/vnd.jupyter.widget-view+json": {
       "model_id": "a2e16e3dd4a7439d9d5a6fccf6e9b21a",
       "version_major": 2,
       "version_minor": 0
      },
      "text/plain": [
       "  0%|          | 0/20 [00:00<?, ?it/s]"
      ]
     },
     "metadata": {},
     "output_type": "display_data"
    },
    {
     "data": {
      "application/vnd.jupyter.widget-view+json": {
       "model_id": "39a8eb1910874f42935da9342839bf00",
       "version_major": 2,
       "version_minor": 0
      },
      "text/plain": [
       "  0%|          | 0/20 [00:00<?, ?it/s]"
      ]
     },
     "metadata": {},
     "output_type": "display_data"
    },
    {
     "data": {
      "application/vnd.jupyter.widget-view+json": {
       "model_id": "1510bf9399964578aa9db90e4ea29a62",
       "version_major": 2,
       "version_minor": 0
      },
      "text/plain": [
       "  0%|          | 0/20 [00:00<?, ?it/s]"
      ]
     },
     "metadata": {},
     "output_type": "display_data"
    },
    {
     "data": {
      "application/vnd.jupyter.widget-view+json": {
       "model_id": "4d01423ec6d449f2984d4dd4a7bd9d1a",
       "version_major": 2,
       "version_minor": 0
      },
      "text/plain": [
       "  0%|          | 0/20 [00:00<?, ?it/s]"
      ]
     },
     "metadata": {},
     "output_type": "display_data"
    },
    {
     "data": {
      "application/vnd.jupyter.widget-view+json": {
       "model_id": "f1ed355549e84b40bcf2720d56947ce1",
       "version_major": 2,
       "version_minor": 0
      },
      "text/plain": [
       "  0%|          | 0/20 [00:00<?, ?it/s]"
      ]
     },
     "metadata": {},
     "output_type": "display_data"
    },
    {
     "data": {
      "application/vnd.jupyter.widget-view+json": {
       "model_id": "7717cce2ff144cccb1deaef2035b93d4",
       "version_major": 2,
       "version_minor": 0
      },
      "text/plain": [
       "  0%|          | 0/20 [00:00<?, ?it/s]"
      ]
     },
     "metadata": {},
     "output_type": "display_data"
    },
    {
     "data": {
      "application/vnd.jupyter.widget-view+json": {
       "model_id": "99e7e65e090944c39ba6e16de5e253ab",
       "version_major": 2,
       "version_minor": 0
      },
      "text/plain": [
       "  0%|          | 0/20 [00:00<?, ?it/s]"
      ]
     },
     "metadata": {},
     "output_type": "display_data"
    },
    {
     "data": {
      "application/vnd.jupyter.widget-view+json": {
       "model_id": "c64de9d0fbdc458cafc941a0517514f9",
       "version_major": 2,
       "version_minor": 0
      },
      "text/plain": [
       "  0%|          | 0/19 [00:00<?, ?it/s]"
      ]
     },
     "metadata": {},
     "output_type": "display_data"
    },
    {
     "data": {
      "application/vnd.jupyter.widget-view+json": {
       "model_id": "3a19a256dd0d4bd499f7295b16f6fc69",
       "version_major": 2,
       "version_minor": 0
      },
      "text/plain": [
       "  0%|          | 0/20 [00:00<?, ?it/s]"
      ]
     },
     "metadata": {},
     "output_type": "display_data"
    },
    {
     "data": {
      "application/vnd.jupyter.widget-view+json": {
       "model_id": "05c493cb91334d6ab9b7c091885d5914",
       "version_major": 2,
       "version_minor": 0
      },
      "text/plain": [
       "  0%|          | 0/20 [00:00<?, ?it/s]"
      ]
     },
     "metadata": {},
     "output_type": "display_data"
    },
    {
     "data": {
      "application/vnd.jupyter.widget-view+json": {
       "model_id": "c0548559c9484513b79d6d4ed5bd215e",
       "version_major": 2,
       "version_minor": 0
      },
      "text/plain": [
       "  0%|          | 0/19 [00:00<?, ?it/s]"
      ]
     },
     "metadata": {},
     "output_type": "display_data"
    },
    {
     "data": {
      "application/vnd.jupyter.widget-view+json": {
       "model_id": "333022f43fbf4cd1b0becade99e8c4e2",
       "version_major": 2,
       "version_minor": 0
      },
      "text/plain": [
       "  0%|          | 0/20 [00:00<?, ?it/s]"
      ]
     },
     "metadata": {},
     "output_type": "display_data"
    },
    {
     "data": {
      "application/vnd.jupyter.widget-view+json": {
       "model_id": "a712ea1c528947c78bf377c88edbfb0c",
       "version_major": 2,
       "version_minor": 0
      },
      "text/plain": [
       "  0%|          | 0/19 [00:00<?, ?it/s]"
      ]
     },
     "metadata": {},
     "output_type": "display_data"
    },
    {
     "data": {
      "application/vnd.jupyter.widget-view+json": {
       "model_id": "708ed4ab90cb4203b6e5b053e9cdb7b9",
       "version_major": 2,
       "version_minor": 0
      },
      "text/plain": [
       "  0%|          | 0/20 [00:00<?, ?it/s]"
      ]
     },
     "metadata": {},
     "output_type": "display_data"
    },
    {
     "data": {
      "application/vnd.jupyter.widget-view+json": {
       "model_id": "beb83a4715cb4853ab458238b3682ccb",
       "version_major": 2,
       "version_minor": 0
      },
      "text/plain": [
       "  0%|          | 0/20 [00:00<?, ?it/s]"
      ]
     },
     "metadata": {},
     "output_type": "display_data"
    },
    {
     "data": {
      "application/vnd.jupyter.widget-view+json": {
       "model_id": "71a3acd13e5446b88fd5b79a475f04ae",
       "version_major": 2,
       "version_minor": 0
      },
      "text/plain": [
       "  0%|          | 0/20 [00:00<?, ?it/s]"
      ]
     },
     "metadata": {},
     "output_type": "display_data"
    },
    {
     "data": {
      "application/vnd.jupyter.widget-view+json": {
       "model_id": "1cad71cb64be48c8aa0d8ef8adba3612",
       "version_major": 2,
       "version_minor": 0
      },
      "text/plain": [
       "  0%|          | 0/20 [00:00<?, ?it/s]"
      ]
     },
     "metadata": {},
     "output_type": "display_data"
    }
   ],
   "source": [
    "from datetime import date\n",
    "for i in tqdm(range(len(compnotjson))):\n",
    "    url = 'https://habr.com/ru/search/?q=' + compnotjson[i] + '&target_type=companies&order=relevance' #переход на страницу поиска компании по названию\n",
    "    page = requests.get(url)\n",
    "    soup = bs(page.text, 'html.parser')\n",
    "    c = soup.find('div', class_ = 'tm-company-snippet__info')\n",
    "    if(c is not None):\n",
    "        url = 'https://habr.com' + c.a.get('href') #переход на страницу профиля компании\n",
    "        page = requests.get(url)\n",
    "        soup = bs(page.text, 'html.parser')\n",
    "        #получение рейтинга компании\n",
    "        rate = soup.find('span', class_='tm-votes-lever__score-counter tm-votes-lever__score-counter tm-votes-lever__score-counter_rating')\n",
    "        rate = ''.join(rate.text.split())\n",
    "        #получение описания компании\n",
    "        about = soup.find('div', class_='tm-company-card__description')\n",
    "        about = about.text\n",
    "        #получение отраслей компании\n",
    "        fieldtext = \"\" \n",
    "        field = soup.find_all('a', class_='tm-company-profile__categories-text') #получаем список отраслей компании\n",
    "        for fields in field:\n",
    "            fieldtext = fieldtext + ((fields.text).strip()) + \" \"\n",
    "        fieldtext = fieldtext.splitlines()\n",
    "        #получение названии комании\n",
    "        namecompany = soup.find('a', class_='tm-company-card__name router-link-exact-active router-link-active')\n",
    "        if(namecompany.text in compnotjson):\n",
    "            #переход на страницу поиска статей по названию компании\n",
    "            url = 'https://habr.com/ru/search/?q=' + compnotjson[i] + '&target_type=posts&order=relevance'\n",
    "            page = requests.get(url)\n",
    "            soup = bs(page.text, 'html.parser')\n",
    "            #получение максимального количества страниц по заданному поиску\n",
    "            pages = soup.find_all('a', class_='tm-pagination__page')\n",
    "            pages = int(pages[1].text)\n",
    "        \n",
    "        \n",
    "            for k in tqdm(range(pages)):\n",
    "                #переход по страницам\n",
    "                url = 'https://habr.com/ru/search/page' + str(k) + '/?q=' + compnotjson[i] + '&target_type=posts&order=relevance'\n",
    "                page = requests.get(url)\n",
    "                soup = bs(page.text, 'html.parser')\n",
    "                #получение всех заголовков статей\n",
    "                articles = soup.find_all('h2', class_='tm-title tm-title_h2')\n",
    "                for j in tqdm(articles):\n",
    "                    url = 'https://habr.com' + j.a.get('href') #переход на страницу статьи\n",
    "                    page = requests.get(url)\n",
    "                    soup = bs(page.text, 'html.parser')\n",
    "                    #получение даты публикации статьи\n",
    "                    datepub = soup.find('span', class_= 'tm-article-datetime-published')\n",
    "                    \n",
    "                    date2 = datepub.time.get('title').split('-')\n",
    "                    date3 = date2[2].split(',')\n",
    "                    \n",
    "                    year = int(date2[0])\n",
    "                    month = int(date2[1])\n",
    "                    day = int(date3[0])\n",
    "                    \n",
    "                    if(year <= datelimit.year): #если статья была выпущена до 2022 года\n",
    "                        #получение текста статьи\n",
    "                        textarticle = soup.find('div', class_='tm-article-body')\n",
    "                        if(textarticle is not None):\n",
    "                            texttt = textarticle.text\n",
    "                        else:\n",
    "                            texttt = np.nan\n",
    "                        result_list['text'].append(texttt)\n",
    "                        if(datepub is not None):\n",
    "                            date = datepub.text.split()\n",
    "                        \n",
    "                            month = date[1]\n",
    "                            if(month == \"сен\"):\n",
    "                                month = \"сентября\"\n",
    "                            if(month == \"окт\"):\n",
    "                                month = \"октября\"\n",
    "                            if(month == \"ноя\"):\n",
    "                                month = \"ноября\"\n",
    "                            if(month == \"дек\"):\n",
    "                                month = \"декабря\"\n",
    "                            if(month == \"янв\"):\n",
    "                                month = \"января\"\n",
    "                            if(month == \"фев\"):\n",
    "                                month = \"февраля\"\n",
    "                            if(month == \"апр\"):\n",
    "                                month = \"апреля\"\n",
    "                            if(month == \"май\"):\n",
    "                                month = \"мая\"\n",
    "                            if(month == \"июн\"):\n",
    "                                month = \"июня\"\n",
    "                            if(month == \"июл\"):\n",
    "                                month = \"июля\"\n",
    "                            if(month == \"авг\"):\n",
    "                                month = \"августа\"\n",
    "                            if(month == \"мар\"):\n",
    "                                month = \"марта\"\n",
    "                            if(len(date) == 5):\n",
    "                                datetext = date[0] + \" \" + month + \" \" + date[4]\n",
    "                            elif(len(date) == 4):\n",
    "                                datetext = date[0] + \" \" + month + \" \" + date[3]\n",
    "                        \n",
    "                            result_list['date'].append(datetext)\n",
    "                        \n",
    "                        else:\n",
    "                            result_list['date'].append(np.nan)\n",
    "                        #заполнение словаря названием компаний\n",
    "                        result_list['namecompany'].append(namecompany.text)\n",
    "                        #заполнение словаря рейтингом статьи\n",
    "                        result_list['ratingarticle'].append(np.nan)\n",
    "                        #заполнение словаря рейтингом компании\n",
    "                        result_list['rating'].append(rate)\n",
    "                        #заполнение словаря описанием компании\n",
    "                        result_list['about'].append(about)\n",
    "                        #заполнение словаря отраслями компании\n",
    "                        result_list['industries'].append(''.join(str(e) for e in fieldtext))"
   ]
  },
  {
   "cell_type": "code",
   "execution_count": 142,
   "metadata": {},
   "outputs": [],
   "source": [
    "df = pd.DataFrame(data=result_list)\n",
    "df.to_csv('dataset.csv', index=False)"
   ]
  },
  {
   "cell_type": "code",
   "execution_count": 143,
   "metadata": {},
   "outputs": [
    {
     "data": {
      "text/html": [
       "<div>\n",
       "<style scoped>\n",
       "    .dataframe tbody tr th:only-of-type {\n",
       "        vertical-align: middle;\n",
       "    }\n",
       "\n",
       "    .dataframe tbody tr th {\n",
       "        vertical-align: top;\n",
       "    }\n",
       "\n",
       "    .dataframe thead th {\n",
       "        text-align: right;\n",
       "    }\n",
       "</style>\n",
       "<table border=\"1\" class=\"dataframe\">\n",
       "  <thead>\n",
       "    <tr style=\"text-align: right;\">\n",
       "      <th></th>\n",
       "      <th>namecompany</th>\n",
       "      <th>text</th>\n",
       "      <th>ratingarticle</th>\n",
       "      <th>date</th>\n",
       "      <th>rating</th>\n",
       "      <th>industries</th>\n",
       "      <th>about</th>\n",
       "    </tr>\n",
       "  </thead>\n",
       "  <tbody>\n",
       "    <tr>\n",
       "      <th>0</th>\n",
       "      <td>Cybersport.Metaratings</td>\n",
       "      <td>7 декабря состоялась церемония награждения лау...</td>\n",
       "      <td>6.0</td>\n",
       "      <td>8 декабря 09:30</td>\n",
       "      <td>NaN</td>\n",
       "      <td>NaN</td>\n",
       "      <td>NaN</td>\n",
       "    </tr>\n",
       "    <tr>\n",
       "      <th>1</th>\n",
       "      <td>ESforce Holding</td>\n",
       "      <td>7 декабря состоялась церемония награждения лау...</td>\n",
       "      <td>6.0</td>\n",
       "      <td>8 декабря 09:30</td>\n",
       "      <td>NaN</td>\n",
       "      <td>NaN</td>\n",
       "      <td>NaN</td>\n",
       "    </tr>\n",
       "    <tr>\n",
       "      <th>2</th>\n",
       "      <td>ESforce Holding</td>\n",
       "      <td>Из совместного исследования издателя компьютер...</td>\n",
       "      <td>12.0</td>\n",
       "      <td>29 июля 13:50</td>\n",
       "      <td>NaN</td>\n",
       "      <td>NaN</td>\n",
       "      <td>NaN</td>\n",
       "    </tr>\n",
       "    <tr>\n",
       "      <th>3</th>\n",
       "      <td>ESforce Holding</td>\n",
       "      <td>По статистике The Esports Observer за I полови...</td>\n",
       "      <td>18.0</td>\n",
       "      <td>9 июля 09:33</td>\n",
       "      <td>NaN</td>\n",
       "      <td>NaN</td>\n",
       "      <td>NaN</td>\n",
       "    </tr>\n",
       "    <tr>\n",
       "      <th>4</th>\n",
       "      <td>ESforce Holding</td>\n",
       "      <td>Компании SuperData Research и PayPal провели с...</td>\n",
       "      <td>11.0</td>\n",
       "      <td>11 апреля 12:43</td>\n",
       "      <td>NaN</td>\n",
       "      <td>NaN</td>\n",
       "      <td>NaN</td>\n",
       "    </tr>\n",
       "  </tbody>\n",
       "</table>\n",
       "</div>"
      ],
      "text/plain": [
       "              namecompany                                               text  \\\n",
       "0  Cybersport.Metaratings  7 декабря состоялась церемония награждения лау...   \n",
       "1         ESforce Holding  7 декабря состоялась церемония награждения лау...   \n",
       "2         ESforce Holding  Из совместного исследования издателя компьютер...   \n",
       "3         ESforce Holding  По статистике The Esports Observer за I полови...   \n",
       "4         ESforce Holding  Компании SuperData Research и PayPal провели с...   \n",
       "\n",
       "   ratingarticle             date rating industries about  \n",
       "0            6.0  8 декабря 09:30    NaN        NaN   NaN  \n",
       "1            6.0  8 декабря 09:30    NaN        NaN   NaN  \n",
       "2           12.0    29 июля 13:50    NaN        NaN   NaN  \n",
       "3           18.0     9 июля 09:33    NaN        NaN   NaN  \n",
       "4           11.0  11 апреля 12:43    NaN        NaN   NaN  "
      ]
     },
     "execution_count": 143,
     "metadata": {},
     "output_type": "execute_result"
    }
   ],
   "source": [
    "df.head()"
   ]
  },
  {
   "cell_type": "markdown",
   "metadata": {},
   "source": [
    "## 1.1.3 Описание набора данных"
   ]
  },
  {
   "cell_type": "markdown",
   "metadata": {},
   "source": [
    "\n",
    "__namecompany__ - название компании.\n",
    "\n",
    "__about__ - описание компании.\n",
    "\n",
    "__industries__ - сферы деятельности компаний.\n",
    "\n",
    "__date__ - дата публикации статьи.\n",
    "\n",
    "__text__ - текст статьи.\n",
    "\n",
    "__ratingarticle__ - рейтинг статьи.\n",
    "\n",
    "__rating__ - рейтинг компании."
   ]
  },
  {
   "cell_type": "code",
   "execution_count": 144,
   "metadata": {},
   "outputs": [
    {
     "name": "stdout",
     "output_type": "stream",
     "text": [
      "<class 'pandas.core.frame.DataFrame'>\n",
      "RangeIndex: 1627 entries, 0 to 1626\n",
      "Data columns (total 7 columns):\n",
      " #   Column         Non-Null Count  Dtype  \n",
      "---  ------         --------------  -----  \n",
      " 0   namecompany    1623 non-null   object \n",
      " 1   text           1623 non-null   object \n",
      " 2   ratingarticle  1112 non-null   float64\n",
      " 3   date           1623 non-null   object \n",
      " 4   rating         519 non-null    object \n",
      " 5   industries     519 non-null    object \n",
      " 6   about          519 non-null    object \n",
      "dtypes: float64(1), object(6)\n",
      "memory usage: 89.1+ KB\n"
     ]
    }
   ],
   "source": [
    "df.info()"
   ]
  },
  {
   "cell_type": "markdown",
   "metadata": {},
   "source": [
    "В результате был получен набор данных состоящий из 1627 записей, также в данном наборе содержатся записи с пустым значением текста статьи, поэтому в дальнейшем они будут удалены."
   ]
  },
  {
   "cell_type": "markdown",
   "metadata": {},
   "source": [
    "# 1.2 Формирование структуры набора данных"
   ]
  },
  {
   "cell_type": "markdown",
   "metadata": {},
   "source": [
    "## 1.2.1 Удаление атрибутов "
   ]
  },
  {
   "cell_type": "markdown",
   "metadata": {},
   "source": [
    "Обоснование удаления атрибутов: в наборе данных есть признаки, которые не несут никакой важной информации -'ratingarticle','about'. Первый признак является нумерацией строк в датафрейме, который уже есть в нем."
   ]
  },
  {
   "cell_type": "code",
   "execution_count": 145,
   "metadata": {},
   "outputs": [],
   "source": [
    "df = df.drop([\"ratingarticle\", \"about\"], axis=1) #Удаление атрибутов"
   ]
  },
  {
   "cell_type": "markdown",
   "metadata": {},
   "source": [
    "В данном наборе данных я оставил такие атрибуты как: название компании, текст статьи, рейтинг компании, дата публикации статьи и сферы дейятельности компании. Название компании требуется для того, чтобы знать, какая компания номинируется на определенную номинацию. Текст статьи требуется для обучения и прогнозирования номинации. Рейтинг компании и дата публикации статьи требуются для графиков зависимости."
   ]
  },
  {
   "cell_type": "markdown",
   "metadata": {},
   "source": [
    "## 1.2.2 Удаление строк"
   ]
  },
  {
   "cell_type": "code",
   "execution_count": 146,
   "metadata": {},
   "outputs": [
    {
     "name": "stdout",
     "output_type": "stream",
     "text": [
      "<class 'pandas.core.frame.DataFrame'>\n",
      "RangeIndex: 1627 entries, 0 to 1626\n",
      "Data columns (total 5 columns):\n",
      " #   Column       Non-Null Count  Dtype \n",
      "---  ------       --------------  ----- \n",
      " 0   namecompany  1623 non-null   object\n",
      " 1   text         1623 non-null   object\n",
      " 2   date         1623 non-null   object\n",
      " 3   rating       519 non-null    object\n",
      " 4   industries   519 non-null    object\n",
      "dtypes: object(5)\n",
      "memory usage: 63.7+ KB\n"
     ]
    }
   ],
   "source": [
    "df.info()"
   ]
  },
  {
   "cell_type": "markdown",
   "metadata": {},
   "source": [
    "Можно заметить, что существуют записи, в которых все значения пусты. Поэтому эти записи нужно удалить"
   ]
  },
  {
   "cell_type": "code",
   "execution_count": 147,
   "metadata": {},
   "outputs": [],
   "source": [
    "df=df[df['text'].notnull()]"
   ]
  },
  {
   "cell_type": "code",
   "execution_count": 148,
   "metadata": {},
   "outputs": [
    {
     "data": {
      "text/plain": [
       "namecompany       0\n",
       "text              0\n",
       "date              0\n",
       "rating         1104\n",
       "industries     1104\n",
       "dtype: int64"
      ]
     },
     "execution_count": 148,
     "metadata": {},
     "output_type": "execute_result"
    }
   ],
   "source": [
    "df.isnull().sum()"
   ]
  },
  {
   "cell_type": "code",
   "execution_count": 149,
   "metadata": {},
   "outputs": [
    {
     "name": "stdout",
     "output_type": "stream",
     "text": [
      "<class 'pandas.core.frame.DataFrame'>\n",
      "Int64Index: 1623 entries, 0 to 1626\n",
      "Data columns (total 5 columns):\n",
      " #   Column       Non-Null Count  Dtype \n",
      "---  ------       --------------  ----- \n",
      " 0   namecompany  1623 non-null   object\n",
      " 1   text         1623 non-null   object\n",
      " 2   date         1623 non-null   object\n",
      " 3   rating       519 non-null    object\n",
      " 4   industries   519 non-null    object\n",
      "dtypes: object(5)\n",
      "memory usage: 76.1+ KB\n"
     ]
    }
   ],
   "source": [
    "df.info()"
   ]
  },
  {
   "cell_type": "markdown",
   "metadata": {},
   "source": [
    "Большое количество пустых значений содержатся в записях, полученных из json файлов."
   ]
  },
  {
   "cell_type": "markdown",
   "metadata": {},
   "source": [
    "В итоге были удалены статьи у которых все значения пусты, но все еще остались атрибуты rating и industries, которые тоже пусты."
   ]
  },
  {
   "cell_type": "markdown",
   "metadata": {},
   "source": [
    "## 1.2.3 Обработка пустых данных"
   ]
  },
  {
   "cell_type": "code",
   "execution_count": 154,
   "metadata": {},
   "outputs": [],
   "source": [
    "df = df.astype({'rating': np.float})"
   ]
  },
  {
   "cell_type": "code",
   "execution_count": 155,
   "metadata": {},
   "outputs": [
    {
     "name": "stdout",
     "output_type": "stream",
     "text": [
      "<class 'pandas.core.frame.DataFrame'>\n",
      "Int64Index: 1623 entries, 0 to 1626\n",
      "Data columns (total 5 columns):\n",
      " #   Column       Non-Null Count  Dtype  \n",
      "---  ------       --------------  -----  \n",
      " 0   namecompany  1623 non-null   object \n",
      " 1   text         1623 non-null   object \n",
      " 2   date         1623 non-null   object \n",
      " 3   rating       519 non-null    float64\n",
      " 4   industries   519 non-null    object \n",
      "dtypes: float64(1), object(4)\n",
      "memory usage: 76.1+ KB\n"
     ]
    }
   ],
   "source": [
    "df.info()"
   ]
  },
  {
   "cell_type": "code",
   "execution_count": 156,
   "metadata": {},
   "outputs": [],
   "source": [
    "df['rating'] = df['rating'].fillna(df['rating'].mean())"
   ]
  },
  {
   "cell_type": "code",
   "execution_count": 157,
   "metadata": {},
   "outputs": [],
   "source": [
    "df['industries'] = df['industries'].fillna(df['namecompany'])"
   ]
  },
  {
   "cell_type": "markdown",
   "metadata": {},
   "source": [
    "Замена пустых рейтингов средними значениями, а также пустых сфер деятельности компаний названиями компаний."
   ]
  },
  {
   "cell_type": "code",
   "execution_count": 160,
   "metadata": {},
   "outputs": [
    {
     "data": {
      "text/html": [
       "<div>\n",
       "<style scoped>\n",
       "    .dataframe tbody tr th:only-of-type {\n",
       "        vertical-align: middle;\n",
       "    }\n",
       "\n",
       "    .dataframe tbody tr th {\n",
       "        vertical-align: top;\n",
       "    }\n",
       "\n",
       "    .dataframe thead th {\n",
       "        text-align: right;\n",
       "    }\n",
       "</style>\n",
       "<table border=\"1\" class=\"dataframe\">\n",
       "  <thead>\n",
       "    <tr style=\"text-align: right;\">\n",
       "      <th></th>\n",
       "      <th>namecompany</th>\n",
       "      <th>text</th>\n",
       "      <th>date</th>\n",
       "      <th>rating</th>\n",
       "      <th>industries</th>\n",
       "    </tr>\n",
       "  </thead>\n",
       "  <tbody>\n",
       "    <tr>\n",
       "      <th>0</th>\n",
       "      <td>Cybersport.Metaratings</td>\n",
       "      <td>7 декабря состоялась церемония награждения лау...</td>\n",
       "      <td>8 декабря 09:30</td>\n",
       "      <td>74.799364</td>\n",
       "      <td>Cybersport.Metaratings</td>\n",
       "    </tr>\n",
       "    <tr>\n",
       "      <th>1</th>\n",
       "      <td>ESforce Holding</td>\n",
       "      <td>7 декабря состоялась церемония награждения лау...</td>\n",
       "      <td>8 декабря 09:30</td>\n",
       "      <td>74.799364</td>\n",
       "      <td>ESforce Holding</td>\n",
       "    </tr>\n",
       "    <tr>\n",
       "      <th>2</th>\n",
       "      <td>ESforce Holding</td>\n",
       "      <td>Из совместного исследования издателя компьютер...</td>\n",
       "      <td>29 июля 13:50</td>\n",
       "      <td>74.799364</td>\n",
       "      <td>ESforce Holding</td>\n",
       "    </tr>\n",
       "    <tr>\n",
       "      <th>3</th>\n",
       "      <td>ESforce Holding</td>\n",
       "      <td>По статистике The Esports Observer за I полови...</td>\n",
       "      <td>9 июля 09:33</td>\n",
       "      <td>74.799364</td>\n",
       "      <td>ESforce Holding</td>\n",
       "    </tr>\n",
       "    <tr>\n",
       "      <th>4</th>\n",
       "      <td>ESforce Holding</td>\n",
       "      <td>Компании SuperData Research и PayPal провели с...</td>\n",
       "      <td>11 апреля 12:43</td>\n",
       "      <td>74.799364</td>\n",
       "      <td>ESforce Holding</td>\n",
       "    </tr>\n",
       "  </tbody>\n",
       "</table>\n",
       "</div>"
      ],
      "text/plain": [
       "              namecompany                                               text  \\\n",
       "0  Cybersport.Metaratings  7 декабря состоялась церемония награждения лау...   \n",
       "1         ESforce Holding  7 декабря состоялась церемония награждения лау...   \n",
       "2         ESforce Holding  Из совместного исследования издателя компьютер...   \n",
       "3         ESforce Holding  По статистике The Esports Observer за I полови...   \n",
       "4         ESforce Holding  Компании SuperData Research и PayPal провели с...   \n",
       "\n",
       "              date     rating              industries  \n",
       "0  8 декабря 09:30  74.799364  Cybersport.Metaratings  \n",
       "1  8 декабря 09:30  74.799364         ESforce Holding  \n",
       "2    29 июля 13:50  74.799364         ESforce Holding  \n",
       "3     9 июля 09:33  74.799364         ESforce Holding  \n",
       "4  11 апреля 12:43  74.799364         ESforce Holding  "
      ]
     },
     "execution_count": 160,
     "metadata": {},
     "output_type": "execute_result"
    }
   ],
   "source": [
    "df.head()"
   ]
  },
  {
   "cell_type": "code",
   "execution_count": 161,
   "metadata": {},
   "outputs": [
    {
     "data": {
      "text/plain": [
       "namecompany    0\n",
       "text           0\n",
       "date           0\n",
       "rating         0\n",
       "industries     0\n",
       "dtype: int64"
      ]
     },
     "execution_count": 161,
     "metadata": {},
     "output_type": "execute_result"
    }
   ],
   "source": [
    "df.isnull().sum()"
   ]
  },
  {
   "cell_type": "code",
   "execution_count": 162,
   "metadata": {},
   "outputs": [],
   "source": [
    "df.to_csv('dataset.csv', index=False)"
   ]
  },
  {
   "cell_type": "markdown",
   "metadata": {},
   "source": [
    "В итоге получен набор данных без пропусков данных и пустых значений"
   ]
  },
  {
   "cell_type": "markdown",
   "metadata": {},
   "source": [
    "# 1.3 Предварительная обработка текстовых данных"
   ]
  },
  {
   "cell_type": "markdown",
   "metadata": {},
   "source": [
    "## 1.3.1 Удаление знаков препинания, пробелов и чисел "
   ]
  },
  {
   "cell_type": "code",
   "execution_count": 163,
   "metadata": {},
   "outputs": [],
   "source": [
    "def remove_punctuation(text): #Функция удаления знаков препинания\n",
    "    return \"\".join([ch if ch not in string.punctuation else ' ' for ch in text])\n",
    "def remove_numbers(text): #Функция удаления чисел\n",
    "    return ''.join([i if not i.isdigit() else ' ' for i in text])\n",
    "def remove_multiple_spaces(text): #Функция удаления пробелов\n",
    "    return re.sub(r'\\s+', ' ', text, flags=re.I)"
   ]
  },
  {
   "cell_type": "markdown",
   "metadata": {},
   "source": [
    "С помощью string.punctuation можно получить все знаки препинания и легко их удалить. Использую регулярное выражение для поиска пробелов и их удаления с помощью функции re.sub()."
   ]
  },
  {
   "cell_type": "code",
   "execution_count": 164,
   "metadata": {},
   "outputs": [
    {
     "data": {
      "application/vnd.jupyter.widget-view+json": {
       "model_id": "65299af9b3f0435c94b593262f2d8581",
       "version_major": 2,
       "version_minor": 0
      },
      "text/plain": [
       "  0%|          | 0/1623 [00:00<?, ?it/s]"
      ]
     },
     "metadata": {},
     "output_type": "display_data"
    }
   ],
   "source": [
    "prep_text = [remove_multiple_spaces(remove_numbers(remove_punctuation(text.lower()))) for text in tqdm(df['text'])]"
   ]
  },
  {
   "cell_type": "code",
   "execution_count": 165,
   "metadata": {},
   "outputs": [],
   "source": [
    "df['text_prep'] = prep_text"
   ]
  },
  {
   "cell_type": "code",
   "execution_count": 166,
   "metadata": {},
   "outputs": [
    {
     "data": {
      "text/html": [
       "<div>\n",
       "<style scoped>\n",
       "    .dataframe tbody tr th:only-of-type {\n",
       "        vertical-align: middle;\n",
       "    }\n",
       "\n",
       "    .dataframe tbody tr th {\n",
       "        vertical-align: top;\n",
       "    }\n",
       "\n",
       "    .dataframe thead th {\n",
       "        text-align: right;\n",
       "    }\n",
       "</style>\n",
       "<table border=\"1\" class=\"dataframe\">\n",
       "  <thead>\n",
       "    <tr style=\"text-align: right;\">\n",
       "      <th></th>\n",
       "      <th>namecompany</th>\n",
       "      <th>text</th>\n",
       "      <th>date</th>\n",
       "      <th>rating</th>\n",
       "      <th>industries</th>\n",
       "      <th>text_prep</th>\n",
       "    </tr>\n",
       "  </thead>\n",
       "  <tbody>\n",
       "    <tr>\n",
       "      <th>0</th>\n",
       "      <td>Cybersport.Metaratings</td>\n",
       "      <td>7 декабря состоялась церемония награждения лау...</td>\n",
       "      <td>8 декабря 09:30</td>\n",
       "      <td>74.799364</td>\n",
       "      <td>Cybersport.Metaratings</td>\n",
       "      <td>декабря состоялась церемония награждения лаур...</td>\n",
       "    </tr>\n",
       "    <tr>\n",
       "      <th>1</th>\n",
       "      <td>ESforce Holding</td>\n",
       "      <td>7 декабря состоялась церемония награждения лау...</td>\n",
       "      <td>8 декабря 09:30</td>\n",
       "      <td>74.799364</td>\n",
       "      <td>ESforce Holding</td>\n",
       "      <td>декабря состоялась церемония награждения лаур...</td>\n",
       "    </tr>\n",
       "    <tr>\n",
       "      <th>2</th>\n",
       "      <td>ESforce Holding</td>\n",
       "      <td>Из совместного исследования издателя компьютер...</td>\n",
       "      <td>29 июля 13:50</td>\n",
       "      <td>74.799364</td>\n",
       "      <td>ESforce Holding</td>\n",
       "      <td>из совместного исследования издателя компьютер...</td>\n",
       "    </tr>\n",
       "    <tr>\n",
       "      <th>3</th>\n",
       "      <td>ESforce Holding</td>\n",
       "      <td>По статистике The Esports Observer за I полови...</td>\n",
       "      <td>9 июля 09:33</td>\n",
       "      <td>74.799364</td>\n",
       "      <td>ESforce Holding</td>\n",
       "      <td>по статистике the esports observer за i полови...</td>\n",
       "    </tr>\n",
       "    <tr>\n",
       "      <th>4</th>\n",
       "      <td>ESforce Holding</td>\n",
       "      <td>Компании SuperData Research и PayPal провели с...</td>\n",
       "      <td>11 апреля 12:43</td>\n",
       "      <td>74.799364</td>\n",
       "      <td>ESforce Holding</td>\n",
       "      <td>компании superdata research и paypal провели с...</td>\n",
       "    </tr>\n",
       "  </tbody>\n",
       "</table>\n",
       "</div>"
      ],
      "text/plain": [
       "              namecompany                                               text  \\\n",
       "0  Cybersport.Metaratings  7 декабря состоялась церемония награждения лау...   \n",
       "1         ESforce Holding  7 декабря состоялась церемония награждения лау...   \n",
       "2         ESforce Holding  Из совместного исследования издателя компьютер...   \n",
       "3         ESforce Holding  По статистике The Esports Observer за I полови...   \n",
       "4         ESforce Holding  Компании SuperData Research и PayPal провели с...   \n",
       "\n",
       "              date     rating              industries  \\\n",
       "0  8 декабря 09:30  74.799364  Cybersport.Metaratings   \n",
       "1  8 декабря 09:30  74.799364         ESforce Holding   \n",
       "2    29 июля 13:50  74.799364         ESforce Holding   \n",
       "3     9 июля 09:33  74.799364         ESforce Holding   \n",
       "4  11 апреля 12:43  74.799364         ESforce Holding   \n",
       "\n",
       "                                           text_prep  \n",
       "0   декабря состоялась церемония награждения лаур...  \n",
       "1   декабря состоялась церемония награждения лаур...  \n",
       "2  из совместного исследования издателя компьютер...  \n",
       "3  по статистике the esports observer за i полови...  \n",
       "4  компании superdata research и paypal провели с...  "
      ]
     },
     "execution_count": 166,
     "metadata": {},
     "output_type": "execute_result"
    }
   ],
   "source": [
    "df.head()"
   ]
  },
  {
   "cell_type": "markdown",
   "metadata": {},
   "source": [
    "Удалены знаки препинания, числа и пробелы."
   ]
  },
  {
   "cell_type": "markdown",
   "metadata": {},
   "source": [
    "## 1.3.2 Удаление стоп-слов"
   ]
  },
  {
   "cell_type": "markdown",
   "metadata": {},
   "source": [
    "В билиотеке NLTK есть встроенный список стоп-слов, который можно использовать, чтобы удалить стоп-слова из текста. Однако это не универсальный список стоп-слов для любой задачи, так что нужно будет его дополнить."
   ]
  },
  {
   "cell_type": "markdown",
   "metadata": {},
   "source": [
    "Также в список стоп слов добавлю спецсимволы для их удаления из текста."
   ]
  },
  {
   "cell_type": "code",
   "execution_count": 170,
   "metadata": {},
   "outputs": [],
   "source": [
    "russian_stopwords = stopwords.words(\"russian\") #создание списка стопслов\n",
    "russian_stopwords.extend(['…', '«', '»', '...', 'т.д.', 'т', 'д', 'это','—', '“', '”', 'который', '„']) #Дополнение стопслов"
   ]
  },
  {
   "cell_type": "code",
   "execution_count": 171,
   "metadata": {},
   "outputs": [
    {
     "data": {
      "application/vnd.jupyter.widget-view+json": {
       "model_id": "325cff41422d4041a38fadd37c5af479",
       "version_major": 2,
       "version_minor": 0
      },
      "text/plain": [
       "  0%|          | 0/1623 [00:00<?, ?it/s]"
      ]
     },
     "metadata": {},
     "output_type": "display_data"
    }
   ],
   "source": [
    "sw_texts_list = [] #создание списка текста с удаленными стоп словами\n",
    "for text in tqdm(df['text_prep']):\n",
    "    tokens = word_tokenize(text)    \n",
    "    tokens = [token for token in tokens if token not in russian_stopwords and token != ' ']\n",
    "    text = \" \".join(tokens)\n",
    "    sw_texts_list.append(text)\n",
    "\n",
    "df['text_sw'] = sw_texts_list"
   ]
  },
  {
   "cell_type": "markdown",
   "metadata": {},
   "source": [
    "Для дополнения стоп слов воспользуюсь токенизацией."
   ]
  },
  {
   "cell_type": "code",
   "execution_count": 172,
   "metadata": {},
   "outputs": [
    {
     "data": {
      "text/plain": [
       "['декабря',\n",
       " 'состоялась',\n",
       " 'церемония',\n",
       " 'награждения',\n",
       " 'лауреатов',\n",
       " 'премии',\n",
       " 'рунета',\n",
       " 'года',\n",
       " 'году',\n",
       " 'премию',\n",
       " 'подано',\n",
       " 'работ',\n",
       " 'вклад',\n",
       " 'развитие',\n",
       " 'российского',\n",
       " 'сегмента',\n",
       " 'сети',\n",
       " 'интернет',\n",
       " 'девять',\n",
       " 'основных',\n",
       " 'четыре',\n",
       " 'специальные',\n",
       " 'номинации',\n",
       " 'финалистами',\n",
       " 'конкурса',\n",
       " 'каждой',\n",
       " 'номинации',\n",
       " 'стали',\n",
       " 'организаций',\n",
       " 'лауреатами',\n",
       " 'премии',\n",
       " 'рунета',\n",
       " 'стали',\n",
       " 'компании',\n",
       " 'персоны',\n",
       " 'причем',\n",
       " 'раньше',\n",
       " 'организаторы',\n",
       " 'российская',\n",
       " 'ассоциация',\n",
       " 'электронных',\n",
       " 'коммуникаций',\n",
       " 'раэк',\n",
       " 'награждали',\n",
       " 'несколько',\n",
       " 'лучших',\n",
       " 'представителей',\n",
       " 'каждой',\n",
       " 'номинации',\n",
       " 'мнению',\n",
       " 'экспертного',\n",
       " 'сообщества',\n",
       " 'году',\n",
       " 'обратились',\n",
       " 'помощи',\n",
       " 'искусственного',\n",
       " 'интеллекта',\n",
       " 'добавили',\n",
       " 'одного',\n",
       " 'лауреата',\n",
       " 'выбирался',\n",
       " 'именно',\n",
       " 'мнению',\n",
       " 'ии',\n",
       " 'номинация',\n",
       " 'государство',\n",
       " 'общество',\n",
       " 'победители',\n",
       " 'благотворительный',\n",
       " 'фонд',\n",
       " 'подари',\n",
       " 'жизнь',\n",
       " 'ано',\n",
       " 'диалог',\n",
       " 'правительство',\n",
       " 'москвы',\n",
       " 'проект',\n",
       " 'цифровая',\n",
       " 'экосистема',\n",
       " 'москвы',\n",
       " 'фнс',\n",
       " 'россии',\n",
       " 'программа',\n",
       " 'пушкинская',\n",
       " 'карта',\n",
       " 'ао',\n",
       " 'почта',\n",
       " 'банк',\n",
       " 'номинация',\n",
       " 'сми',\n",
       " 'массовые',\n",
       " 'коммуникации',\n",
       " 'телеканал',\n",
       " 'медиахолдинг',\n",
       " 'independent',\n",
       " 'media',\n",
       " 'ао',\n",
       " 'коммерсантъ',\n",
       " 'номинация',\n",
       " 'образование',\n",
       " 'кадры',\n",
       " 'правительство',\n",
       " 'москвы',\n",
       " 'проект',\n",
       " 'московская',\n",
       " 'электронная',\n",
       " 'школа',\n",
       " 'мэш',\n",
       " 'проект',\n",
       " 'программы',\n",
       " 'сбер',\n",
       " 'детей',\n",
       " 'родителей',\n",
       " 'совместно',\n",
       " 'rambler',\n",
       " 'co',\n",
       " 'ооо',\n",
       " 'цифровое',\n",
       " 'образование',\n",
       " 'проект',\n",
       " 'икоп',\n",
       " 'сферум',\n",
       " 'образовательная',\n",
       " 'платформа',\n",
       " 'нетология',\n",
       " 'ооо',\n",
       " 'нетология',\n",
       " 'компания',\n",
       " 'samsung',\n",
       " 'electronics',\n",
       " 'номинация',\n",
       " 'наука',\n",
       " 'технологии',\n",
       " 'инновации',\n",
       " 'gett',\n",
       " 'иннотех',\n",
       " 'skillbox',\n",
       " 'промобот',\n",
       " 'sberdevices',\n",
       " 'билайн',\n",
       " 'номинация',\n",
       " 'культурные',\n",
       " 'проекты',\n",
       " 'сети',\n",
       " 'общественное',\n",
       " 'телевидение',\n",
       " 'россии',\n",
       " 'проект',\n",
       " 'путь',\n",
       " 'героя',\n",
       " 'информационного',\n",
       " 'агентства',\n",
       " 'тасс',\n",
       " 'киностудии',\n",
       " 'союзмультфильм',\n",
       " 'эмпатия',\n",
       " 'манучи',\n",
       " 'авторский',\n",
       " 'канал',\n",
       " 'манучарова',\n",
       " 'вячеслава',\n",
       " 'федеральное',\n",
       " 'государственное',\n",
       " 'бюджетное',\n",
       " 'учреждение',\n",
       " 'культуры',\n",
       " 'всероссийское',\n",
       " 'музейное',\n",
       " 'объединение',\n",
       " 'государственная',\n",
       " 'третьяковская',\n",
       " 'галерея',\n",
       " 'номинация',\n",
       " 'игровая',\n",
       " 'индустрия',\n",
       " 'киберспорт',\n",
       " 'федерация',\n",
       " 'компьютерного',\n",
       " 'спорта',\n",
       " 'города',\n",
       " 'москвы',\n",
       " 'московский',\n",
       " 'киберспорт',\n",
       " 'esforce',\n",
       " 'holding',\n",
       " 'cybersport',\n",
       " 'metaratings',\n",
       " 'metamma',\n",
       " 'goose',\n",
       " 'gaming',\n",
       " 'номинация',\n",
       " 'креативные',\n",
       " 'индустрии',\n",
       " 'ассоциация',\n",
       " 'профессиональных',\n",
       " 'участников',\n",
       " 'творческой',\n",
       " 'экономики',\n",
       " 'федерация',\n",
       " 'креативных',\n",
       " 'индустрий',\n",
       " 'ооо',\n",
       " 'гэллэри',\n",
       " 'сервис',\n",
       " 'vinci',\n",
       " 'agency',\n",
       " 'проект',\n",
       " 'веб',\n",
       " 'инклюзии',\n",
       " 'студия',\n",
       " 'артемия',\n",
       " 'лебедева',\n",
       " 'номинация',\n",
       " 'здоровье',\n",
       " 'медицина',\n",
       " 'здоровье',\n",
       " 'ру',\n",
       " 'проект',\n",
       " 'здоровое',\n",
       " 'питание',\n",
       " 'федеральная',\n",
       " 'служба',\n",
       " 'надзору',\n",
       " 'сфере',\n",
       " 'защиты',\n",
       " 'прав',\n",
       " 'потребителей',\n",
       " 'благополучия',\n",
       " 'человека',\n",
       " 'правительство',\n",
       " 'москвы',\n",
       " 'проект',\n",
       " 'использованию',\n",
       " 'технологий',\n",
       " 'компьютерного',\n",
       " 'зрения',\n",
       " 'базе',\n",
       " 'искусственного',\n",
       " 'интеллекта',\n",
       " 'ии',\n",
       " 'анализа',\n",
       " 'медицинских',\n",
       " 'изображений',\n",
       " 'номинация',\n",
       " 'экономика',\n",
       " 'бизнес',\n",
       " 'сбермаркет',\n",
       " 'balance',\n",
       " 'platform',\n",
       " 'московская',\n",
       " 'биржа',\n",
       " 'метарейтинг',\n",
       " 'номинация',\n",
       " 'развитие',\n",
       " 'среднего',\n",
       " 'малого',\n",
       " 'бизнеса',\n",
       " 'рунете',\n",
       " 'портал',\n",
       " 'предпринимателей',\n",
       " 'smallbusiness',\n",
       " 'ru',\n",
       " 'пао',\n",
       " 'мтс',\n",
       " 'проект',\n",
       " 'знаем',\n",
       " 'лично',\n",
       " 'банк',\n",
       " 'втб',\n",
       " 'пао',\n",
       " 'проект',\n",
       " 'интернет',\n",
       " 'банк',\n",
       " 'номинация',\n",
       " 'счастьеесть',\n",
       " 'автономная',\n",
       " 'некоммерческая',\n",
       " 'организация',\n",
       " 'развитию',\n",
       " 'экологических',\n",
       " 'социальных',\n",
       " 'патриотических',\n",
       " 'проектов',\n",
       " 'сад',\n",
       " 'памяти',\n",
       " 'номинация',\n",
       " 'развитие',\n",
       " 'внутреннего',\n",
       " 'туризма',\n",
       " 'проект',\n",
       " 'oh',\n",
       " 'my',\n",
       " 'град',\n",
       " 'россия',\n",
       " 'приключений',\n",
       " 'проект',\n",
       " 'онлайн',\n",
       " 'медиа',\n",
       " 'russia',\n",
       " 'beyond',\n",
       " 'входящее',\n",
       " 'телесеть',\n",
       " 'rt',\n",
       " 'ано',\n",
       " 'проектный',\n",
       " 'офис',\n",
       " 'развитию',\n",
       " 'туризма',\n",
       " 'гостеприимства',\n",
       " 'москвы',\n",
       " 'туристический',\n",
       " 'сервис',\n",
       " 'russpass',\n",
       " 'комитет',\n",
       " 'туризму',\n",
       " 'города',\n",
       " 'москвы',\n",
       " 'проект',\n",
       " 'discovermoscow',\n",
       " 'com',\n",
       " 'номинация',\n",
       " 'открытые',\n",
       " 'коммуникации',\n",
       " 'мэр',\n",
       " 'вологды',\n",
       " 'сергей',\n",
       " 'воропанов',\n",
       " 'правительство',\n",
       " 'тульской',\n",
       " 'области',\n",
       " 'федеральное',\n",
       " 'агентство',\n",
       " 'туризму',\n",
       " 'портал',\n",
       " 'russia',\n",
       " 'travel',\n",
       " 'народном',\n",
       " 'голосовании',\n",
       " 'премии',\n",
       " 'рунета',\n",
       " 'выбраны',\n",
       " 'такие',\n",
       " 'лауреаты',\n",
       " 'номинации',\n",
       " 'дмитрий',\n",
       " 'спиридонов',\n",
       " 'номинации',\n",
       " 'forza',\n",
       " 'номинациилучший',\n",
       " 'цифровой',\n",
       " 'регион',\n",
       " 'номинация',\n",
       " 'город',\n",
       " 'москва',\n",
       " 'вдобавок',\n",
       " 'персональный',\n",
       " 'многолетний',\n",
       " 'вклад',\n",
       " 'развитие',\n",
       " 'интернет',\n",
       " 'отрасли',\n",
       " 'награду',\n",
       " 'премия',\n",
       " 'рунета',\n",
       " 'получил',\n",
       " 'экс',\n",
       " 'глава',\n",
       " 'роспечати',\n",
       " 'михаил',\n",
       " 'сеславинский',\n",
       " 'году',\n",
       " 'хабр',\n",
       " 'также',\n",
       " 'подавал',\n",
       " 'заявку',\n",
       " 'участие',\n",
       " 'премии',\n",
       " 'рунета',\n",
       " 'номинации',\n",
       " 'креативные',\n",
       " 'индустрии',\n",
       " 'заявлен',\n",
       " 'наш',\n",
       " 'конкурс',\n",
       " 'технотекст',\n",
       " 'стали',\n",
       " 'лауреатами',\n",
       " 'вошли',\n",
       " 'сперва',\n",
       " 'шорт',\n",
       " 'лист',\n",
       " 'затем',\n",
       " 'число',\n",
       " 'финалистов',\n",
       " 'рядом',\n",
       " 'очень',\n",
       " 'серьёзными',\n",
       " 'соперниками',\n",
       " 'описание',\n",
       " 'заявки',\n",
       " 'хабра',\n",
       " 'посмотреть',\n",
       " 'странице',\n",
       " 'сайта',\n",
       " 'конкурса']"
      ]
     },
     "execution_count": 172,
     "metadata": {},
     "output_type": "execute_result"
    }
   ],
   "source": [
    "word_tokenize(df['text_sw'][0])"
   ]
  },
  {
   "cell_type": "code",
   "execution_count": 173,
   "metadata": {},
   "outputs": [
    {
     "data": {
      "text/html": [
       "<div>\n",
       "<style scoped>\n",
       "    .dataframe tbody tr th:only-of-type {\n",
       "        vertical-align: middle;\n",
       "    }\n",
       "\n",
       "    .dataframe tbody tr th {\n",
       "        vertical-align: top;\n",
       "    }\n",
       "\n",
       "    .dataframe thead th {\n",
       "        text-align: right;\n",
       "    }\n",
       "</style>\n",
       "<table border=\"1\" class=\"dataframe\">\n",
       "  <thead>\n",
       "    <tr style=\"text-align: right;\">\n",
       "      <th></th>\n",
       "      <th>namecompany</th>\n",
       "      <th>text</th>\n",
       "      <th>date</th>\n",
       "      <th>rating</th>\n",
       "      <th>industries</th>\n",
       "      <th>text_prep</th>\n",
       "      <th>text_sw</th>\n",
       "    </tr>\n",
       "  </thead>\n",
       "  <tbody>\n",
       "    <tr>\n",
       "      <th>0</th>\n",
       "      <td>Cybersport.Metaratings</td>\n",
       "      <td>7 декабря состоялась церемония награждения лау...</td>\n",
       "      <td>8 декабря 09:30</td>\n",
       "      <td>74.799364</td>\n",
       "      <td>Cybersport.Metaratings</td>\n",
       "      <td>декабря состоялась церемония награждения лаур...</td>\n",
       "      <td>декабря состоялась церемония награждения лауре...</td>\n",
       "    </tr>\n",
       "    <tr>\n",
       "      <th>1</th>\n",
       "      <td>ESforce Holding</td>\n",
       "      <td>7 декабря состоялась церемония награждения лау...</td>\n",
       "      <td>8 декабря 09:30</td>\n",
       "      <td>74.799364</td>\n",
       "      <td>ESforce Holding</td>\n",
       "      <td>декабря состоялась церемония награждения лаур...</td>\n",
       "      <td>декабря состоялась церемония награждения лауре...</td>\n",
       "    </tr>\n",
       "    <tr>\n",
       "      <th>2</th>\n",
       "      <td>ESforce Holding</td>\n",
       "      <td>Из совместного исследования издателя компьютер...</td>\n",
       "      <td>29 июля 13:50</td>\n",
       "      <td>74.799364</td>\n",
       "      <td>ESforce Holding</td>\n",
       "      <td>из совместного исследования издателя компьютер...</td>\n",
       "      <td>совместного исследования издателя компьютерных...</td>\n",
       "    </tr>\n",
       "    <tr>\n",
       "      <th>3</th>\n",
       "      <td>ESforce Holding</td>\n",
       "      <td>По статистике The Esports Observer за I полови...</td>\n",
       "      <td>9 июля 09:33</td>\n",
       "      <td>74.799364</td>\n",
       "      <td>ESforce Holding</td>\n",
       "      <td>по статистике the esports observer за i полови...</td>\n",
       "      <td>статистике the esports observer i половину год...</td>\n",
       "    </tr>\n",
       "    <tr>\n",
       "      <th>4</th>\n",
       "      <td>ESforce Holding</td>\n",
       "      <td>Компании SuperData Research и PayPal провели с...</td>\n",
       "      <td>11 апреля 12:43</td>\n",
       "      <td>74.799364</td>\n",
       "      <td>ESforce Holding</td>\n",
       "      <td>компании superdata research и paypal провели с...</td>\n",
       "      <td>компании superdata research paypal провели сов...</td>\n",
       "    </tr>\n",
       "  </tbody>\n",
       "</table>\n",
       "</div>"
      ],
      "text/plain": [
       "              namecompany                                               text  \\\n",
       "0  Cybersport.Metaratings  7 декабря состоялась церемония награждения лау...   \n",
       "1         ESforce Holding  7 декабря состоялась церемония награждения лау...   \n",
       "2         ESforce Holding  Из совместного исследования издателя компьютер...   \n",
       "3         ESforce Holding  По статистике The Esports Observer за I полови...   \n",
       "4         ESforce Holding  Компании SuperData Research и PayPal провели с...   \n",
       "\n",
       "              date     rating              industries  \\\n",
       "0  8 декабря 09:30  74.799364  Cybersport.Metaratings   \n",
       "1  8 декабря 09:30  74.799364         ESforce Holding   \n",
       "2    29 июля 13:50  74.799364         ESforce Holding   \n",
       "3     9 июля 09:33  74.799364         ESforce Holding   \n",
       "4  11 апреля 12:43  74.799364         ESforce Holding   \n",
       "\n",
       "                                           text_prep  \\\n",
       "0   декабря состоялась церемония награждения лаур...   \n",
       "1   декабря состоялась церемония награждения лаур...   \n",
       "2  из совместного исследования издателя компьютер...   \n",
       "3  по статистике the esports observer за i полови...   \n",
       "4  компании superdata research и paypal провели с...   \n",
       "\n",
       "                                             text_sw  \n",
       "0  декабря состоялась церемония награждения лауре...  \n",
       "1  декабря состоялась церемония награждения лауре...  \n",
       "2  совместного исследования издателя компьютерных...  \n",
       "3  статистике the esports observer i половину год...  \n",
       "4  компании superdata research paypal провели сов...  "
      ]
     },
     "execution_count": 173,
     "metadata": {},
     "output_type": "execute_result"
    }
   ],
   "source": [
    "df.head()"
   ]
  },
  {
   "cell_type": "code",
   "execution_count": 174,
   "metadata": {},
   "outputs": [],
   "source": [
    "df.drop(['text_prep'], axis=1, inplace=True)"
   ]
  },
  {
   "cell_type": "markdown",
   "metadata": {},
   "source": [
    "В итоге получил текста статей без стоп слов, что в дальнейшем пригодится для лемматизации."
   ]
  },
  {
   "cell_type": "markdown",
   "metadata": {},
   "source": [
    "## 1.3.3 Лемматизация"
   ]
  },
  {
   "cell_type": "markdown",
   "metadata": {},
   "source": [
    "В сравнение двух библиотек PyMystem3 от Яндекса и PyMorphy2, лучшим вариантом для лемматизации стала библиотека PyMorphy2, так как она выполнила лемматизацию в два раза быстрее чем PyMystem3"
   ]
  },
  {
   "cell_type": "code",
   "execution_count": 176,
   "metadata": {},
   "outputs": [
    {
     "data": {
      "application/vnd.jupyter.widget-view+json": {
       "model_id": "babc8eaae7ee4db9b07f5298852bdc84",
       "version_major": 2,
       "version_minor": 0
      },
      "text/plain": [
       "  0%|          | 0/1623 [00:00<?, ?it/s]"
      ]
     },
     "metadata": {},
     "output_type": "display_data"
    }
   ],
   "source": [
    "morph = pymorphy2.MorphAnalyzer(lang='ru')\n",
    "lemm_texts_list = []\n",
    "for text in tqdm(df['text_sw']):\n",
    "    try:\n",
    "        tokens = word_tokenize(text)\n",
    "        res = list()\n",
    "        for word in tokens:\n",
    "            p = morph.parse(word)[0]\n",
    "            res.append(p.normal_form)\n",
    "        text = \" \".join(res)\n",
    "        lemm_texts_list.append(text)\n",
    "    except Exception as e:\n",
    "        print(e)\n",
    "    \n",
    "df['text_lemm'] = lemm_texts_list"
   ]
  },
  {
   "cell_type": "code",
   "execution_count": 177,
   "metadata": {},
   "outputs": [
    {
     "data": {
      "text/html": [
       "<div>\n",
       "<style scoped>\n",
       "    .dataframe tbody tr th:only-of-type {\n",
       "        vertical-align: middle;\n",
       "    }\n",
       "\n",
       "    .dataframe tbody tr th {\n",
       "        vertical-align: top;\n",
       "    }\n",
       "\n",
       "    .dataframe thead th {\n",
       "        text-align: right;\n",
       "    }\n",
       "</style>\n",
       "<table border=\"1\" class=\"dataframe\">\n",
       "  <thead>\n",
       "    <tr style=\"text-align: right;\">\n",
       "      <th></th>\n",
       "      <th>namecompany</th>\n",
       "      <th>text</th>\n",
       "      <th>date</th>\n",
       "      <th>rating</th>\n",
       "      <th>industries</th>\n",
       "      <th>text_sw</th>\n",
       "      <th>text_lemm</th>\n",
       "    </tr>\n",
       "  </thead>\n",
       "  <tbody>\n",
       "    <tr>\n",
       "      <th>0</th>\n",
       "      <td>Cybersport.Metaratings</td>\n",
       "      <td>7 декабря состоялась церемония награждения лау...</td>\n",
       "      <td>8 декабря 09:30</td>\n",
       "      <td>74.799364</td>\n",
       "      <td>Cybersport.Metaratings</td>\n",
       "      <td>декабря состоялась церемония награждения лауре...</td>\n",
       "      <td>декабрь состояться церемония награждение лауре...</td>\n",
       "    </tr>\n",
       "    <tr>\n",
       "      <th>1</th>\n",
       "      <td>ESforce Holding</td>\n",
       "      <td>7 декабря состоялась церемония награждения лау...</td>\n",
       "      <td>8 декабря 09:30</td>\n",
       "      <td>74.799364</td>\n",
       "      <td>ESforce Holding</td>\n",
       "      <td>декабря состоялась церемония награждения лауре...</td>\n",
       "      <td>декабрь состояться церемония награждение лауре...</td>\n",
       "    </tr>\n",
       "    <tr>\n",
       "      <th>2</th>\n",
       "      <td>ESforce Holding</td>\n",
       "      <td>Из совместного исследования издателя компьютер...</td>\n",
       "      <td>29 июля 13:50</td>\n",
       "      <td>74.799364</td>\n",
       "      <td>ESforce Holding</td>\n",
       "      <td>совместного исследования издателя компьютерных...</td>\n",
       "      <td>совместный исследование издатель компьютерный ...</td>\n",
       "    </tr>\n",
       "    <tr>\n",
       "      <th>3</th>\n",
       "      <td>ESforce Holding</td>\n",
       "      <td>По статистике The Esports Observer за I полови...</td>\n",
       "      <td>9 июля 09:33</td>\n",
       "      <td>74.799364</td>\n",
       "      <td>ESforce Holding</td>\n",
       "      <td>статистике the esports observer i половину год...</td>\n",
       "      <td>статистика the esports observer i половина год...</td>\n",
       "    </tr>\n",
       "    <tr>\n",
       "      <th>4</th>\n",
       "      <td>ESforce Holding</td>\n",
       "      <td>Компании SuperData Research и PayPal провели с...</td>\n",
       "      <td>11 апреля 12:43</td>\n",
       "      <td>74.799364</td>\n",
       "      <td>ESforce Holding</td>\n",
       "      <td>компании superdata research paypal провели сов...</td>\n",
       "      <td>компания superdata research paypal провести со...</td>\n",
       "    </tr>\n",
       "  </tbody>\n",
       "</table>\n",
       "</div>"
      ],
      "text/plain": [
       "              namecompany                                               text  \\\n",
       "0  Cybersport.Metaratings  7 декабря состоялась церемония награждения лау...   \n",
       "1         ESforce Holding  7 декабря состоялась церемония награждения лау...   \n",
       "2         ESforce Holding  Из совместного исследования издателя компьютер...   \n",
       "3         ESforce Holding  По статистике The Esports Observer за I полови...   \n",
       "4         ESforce Holding  Компании SuperData Research и PayPal провели с...   \n",
       "\n",
       "              date     rating              industries  \\\n",
       "0  8 декабря 09:30  74.799364  Cybersport.Metaratings   \n",
       "1  8 декабря 09:30  74.799364         ESforce Holding   \n",
       "2    29 июля 13:50  74.799364         ESforce Holding   \n",
       "3     9 июля 09:33  74.799364         ESforce Holding   \n",
       "4  11 апреля 12:43  74.799364         ESforce Holding   \n",
       "\n",
       "                                             text_sw  \\\n",
       "0  декабря состоялась церемония награждения лауре...   \n",
       "1  декабря состоялась церемония награждения лауре...   \n",
       "2  совместного исследования издателя компьютерных...   \n",
       "3  статистике the esports observer i половину год...   \n",
       "4  компании superdata research paypal провели сов...   \n",
       "\n",
       "                                           text_lemm  \n",
       "0  декабрь состояться церемония награждение лауре...  \n",
       "1  декабрь состояться церемония награждение лауре...  \n",
       "2  совместный исследование издатель компьютерный ...  \n",
       "3  статистика the esports observer i половина год...  \n",
       "4  компания superdata research paypal провести со...  "
      ]
     },
     "execution_count": 177,
     "metadata": {},
     "output_type": "execute_result"
    }
   ],
   "source": [
    "df.head()"
   ]
  },
  {
   "cell_type": "markdown",
   "metadata": {},
   "source": [
    "## 1.3.4 Выделение частей речи"
   ]
  },
  {
   "cell_type": "markdown",
   "metadata": {},
   "source": [
    "Процесс преобразования предложения в формы, то есть в список слов или кортежей (каждый кортеж имеет вид [слово, часть речи])."
   ]
  },
  {
   "cell_type": "markdown",
   "metadata": {},
   "source": [
    "pymorphy2 умеет разбирать не только словарные слова; для несловарных слов автоматически задействуется предсказатель."
   ]
  },
  {
   "cell_type": "code",
   "execution_count": 178,
   "metadata": {},
   "outputs": [
    {
     "data": {
      "application/vnd.jupyter.widget-view+json": {
       "model_id": "27af5c9cdfca4ddc8542017474d843ef",
       "version_major": 2,
       "version_minor": 0
      },
      "text/plain": [
       "  0%|          | 0/1623 [00:00<?, ?it/s]"
      ]
     },
     "metadata": {},
     "output_type": "display_data"
    }
   ],
   "source": [
    "ps_text_list = []\n",
    "for text in tqdm(df['text_lemm']):\n",
    "    try:\n",
    "        words = word_tokenize(text)\n",
    "        text_list = []\n",
    "        for i in range(len(words)):\n",
    "            p = morph.parse(words[i])[0]\n",
    "            text_list.append(\"(\" + words[i] + \", \" + str(p.tag.POS) + \")\")\n",
    "        ps_text_list.append(text_list)\n",
    "    except Exception as e:\n",
    "        print(e)\n",
    "df['text_ps'] = ps_text_list"
   ]
  },
  {
   "cell_type": "code",
   "execution_count": 179,
   "metadata": {},
   "outputs": [
    {
     "data": {
      "text/html": [
       "<div>\n",
       "<style scoped>\n",
       "    .dataframe tbody tr th:only-of-type {\n",
       "        vertical-align: middle;\n",
       "    }\n",
       "\n",
       "    .dataframe tbody tr th {\n",
       "        vertical-align: top;\n",
       "    }\n",
       "\n",
       "    .dataframe thead th {\n",
       "        text-align: right;\n",
       "    }\n",
       "</style>\n",
       "<table border=\"1\" class=\"dataframe\">\n",
       "  <thead>\n",
       "    <tr style=\"text-align: right;\">\n",
       "      <th></th>\n",
       "      <th>namecompany</th>\n",
       "      <th>text</th>\n",
       "      <th>date</th>\n",
       "      <th>rating</th>\n",
       "      <th>industries</th>\n",
       "      <th>text_sw</th>\n",
       "      <th>text_lemm</th>\n",
       "      <th>text_ps</th>\n",
       "    </tr>\n",
       "  </thead>\n",
       "  <tbody>\n",
       "    <tr>\n",
       "      <th>0</th>\n",
       "      <td>Cybersport.Metaratings</td>\n",
       "      <td>7 декабря состоялась церемония награждения лау...</td>\n",
       "      <td>8 декабря 09:30</td>\n",
       "      <td>74.799364</td>\n",
       "      <td>Cybersport.Metaratings</td>\n",
       "      <td>декабря состоялась церемония награждения лауре...</td>\n",
       "      <td>декабрь состояться церемония награждение лауре...</td>\n",
       "      <td>[(декабрь, NOUN), (состояться, INFN), (церемон...</td>\n",
       "    </tr>\n",
       "    <tr>\n",
       "      <th>1</th>\n",
       "      <td>ESforce Holding</td>\n",
       "      <td>7 декабря состоялась церемония награждения лау...</td>\n",
       "      <td>8 декабря 09:30</td>\n",
       "      <td>74.799364</td>\n",
       "      <td>ESforce Holding</td>\n",
       "      <td>декабря состоялась церемония награждения лауре...</td>\n",
       "      <td>декабрь состояться церемония награждение лауре...</td>\n",
       "      <td>[(декабрь, NOUN), (состояться, INFN), (церемон...</td>\n",
       "    </tr>\n",
       "    <tr>\n",
       "      <th>2</th>\n",
       "      <td>ESforce Holding</td>\n",
       "      <td>Из совместного исследования издателя компьютер...</td>\n",
       "      <td>29 июля 13:50</td>\n",
       "      <td>74.799364</td>\n",
       "      <td>ESforce Holding</td>\n",
       "      <td>совместного исследования издателя компьютерных...</td>\n",
       "      <td>совместный исследование издатель компьютерный ...</td>\n",
       "      <td>[(совместный, ADJF), (исследование, NOUN), (из...</td>\n",
       "    </tr>\n",
       "    <tr>\n",
       "      <th>3</th>\n",
       "      <td>ESforce Holding</td>\n",
       "      <td>По статистике The Esports Observer за I полови...</td>\n",
       "      <td>9 июля 09:33</td>\n",
       "      <td>74.799364</td>\n",
       "      <td>ESforce Holding</td>\n",
       "      <td>статистике the esports observer i половину год...</td>\n",
       "      <td>статистика the esports observer i половина год...</td>\n",
       "      <td>[(статистика, NOUN), (the, None), (esports, No...</td>\n",
       "    </tr>\n",
       "    <tr>\n",
       "      <th>4</th>\n",
       "      <td>ESforce Holding</td>\n",
       "      <td>Компании SuperData Research и PayPal провели с...</td>\n",
       "      <td>11 апреля 12:43</td>\n",
       "      <td>74.799364</td>\n",
       "      <td>ESforce Holding</td>\n",
       "      <td>компании superdata research paypal провели сов...</td>\n",
       "      <td>компания superdata research paypal провести со...</td>\n",
       "      <td>[(компания, NOUN), (superdata, None), (researc...</td>\n",
       "    </tr>\n",
       "  </tbody>\n",
       "</table>\n",
       "</div>"
      ],
      "text/plain": [
       "              namecompany                                               text  \\\n",
       "0  Cybersport.Metaratings  7 декабря состоялась церемония награждения лау...   \n",
       "1         ESforce Holding  7 декабря состоялась церемония награждения лау...   \n",
       "2         ESforce Holding  Из совместного исследования издателя компьютер...   \n",
       "3         ESforce Holding  По статистике The Esports Observer за I полови...   \n",
       "4         ESforce Holding  Компании SuperData Research и PayPal провели с...   \n",
       "\n",
       "              date     rating              industries  \\\n",
       "0  8 декабря 09:30  74.799364  Cybersport.Metaratings   \n",
       "1  8 декабря 09:30  74.799364         ESforce Holding   \n",
       "2    29 июля 13:50  74.799364         ESforce Holding   \n",
       "3     9 июля 09:33  74.799364         ESforce Holding   \n",
       "4  11 апреля 12:43  74.799364         ESforce Holding   \n",
       "\n",
       "                                             text_sw  \\\n",
       "0  декабря состоялась церемония награждения лауре...   \n",
       "1  декабря состоялась церемония награждения лауре...   \n",
       "2  совместного исследования издателя компьютерных...   \n",
       "3  статистике the esports observer i половину год...   \n",
       "4  компании superdata research paypal провели сов...   \n",
       "\n",
       "                                           text_lemm  \\\n",
       "0  декабрь состояться церемония награждение лауре...   \n",
       "1  декабрь состояться церемония награждение лауре...   \n",
       "2  совместный исследование издатель компьютерный ...   \n",
       "3  статистика the esports observer i половина год...   \n",
       "4  компания superdata research paypal провести со...   \n",
       "\n",
       "                                             text_ps  \n",
       "0  [(декабрь, NOUN), (состояться, INFN), (церемон...  \n",
       "1  [(декабрь, NOUN), (состояться, INFN), (церемон...  \n",
       "2  [(совместный, ADJF), (исследование, NOUN), (из...  \n",
       "3  [(статистика, NOUN), (the, None), (esports, No...  \n",
       "4  [(компания, NOUN), (superdata, None), (researc...  "
      ]
     },
     "execution_count": 179,
     "metadata": {},
     "output_type": "execute_result"
    }
   ],
   "source": [
    "df.head()"
   ]
  },
  {
   "cell_type": "code",
   "execution_count": 181,
   "metadata": {},
   "outputs": [],
   "source": [
    "df.to_csv('dataset.csv', index=False) #сохранение обработанных данных"
   ]
  },
  {
   "cell_type": "markdown",
   "metadata": {},
   "source": [
    "# 1.6 Подготовка отчета"
   ]
  },
  {
   "cell_type": "markdown",
   "metadata": {},
   "source": [
    "## 1.6.1 Парсинг данных"
   ]
  },
  {
   "cell_type": "markdown",
   "metadata": {},
   "source": [
    "1. Получен список всех json файлов\n",
    "2. Создан словарь для заполнения его данными\n",
    "3. Получен набор данных с json файлов. Во многих записей отсутствовала информация о компании, а именно рейтинг компании, отрасли и описание.\n",
    "4. Получен список компаний, которые учавствуют в конкурсе из файла Condidates.docx\n",
    "5. Получен список названий компаний, у которых нет информации в json файлах\n",
    "6. Получен набор данных с сайта habr\n",
    "7. Объединены наборы данных с json файлов и сайта"
   ]
  },
  {
   "cell_type": "markdown",
   "metadata": {},
   "source": [
    "В результате был получен набор данных состоящий из 1627 записей, также в данном наборе содержатся записи с пустым значением текста статьи, поэтому в дальнейшем они будут удалены."
   ]
  },
  {
   "cell_type": "markdown",
   "metadata": {},
   "source": [
    "## 1.6.2 Формирование структуры набора данных"
   ]
  },
  {
   "cell_type": "markdown",
   "metadata": {},
   "source": [
    "1. Удалены атрибуты'ratingarticle','about'\n",
    "2. Удалены статьи текст которых пустой\n",
    "3. Рейтинги, которые пусты заменил на средние значения\n",
    "4. Сферы деятельности, которые пусты заменил на названия компаний"
   ]
  },
  {
   "cell_type": "markdown",
   "metadata": {},
   "source": [
    "В данном наборе данных остались такие атрибуты как: название компании, текст статьи, рейтинг компании, дата публикации статьи и сферы дейятельности компании. Название компании требуется для того, чтобы знать, какая компания номинируется на определенную номинацию. Текст статьи требуется для обучения и прогнозирования номинации. Рейтинг компании и дата публикации статьи требуются для графиков зависимости.\n",
    "\n",
    "В итоге получен набор данных без пропусков данных и пустых значений."
   ]
  },
  {
   "cell_type": "markdown",
   "metadata": {},
   "source": [
    "## 1.6.3 Предварительная обработка текстовых данных"
   ]
  },
  {
   "cell_type": "markdown",
   "metadata": {},
   "source": [
    "1. Удалены знаки препинания, числа и пробелы.\n",
    "2. Создание и дополнение списка стоп-слов\n",
    "3. Создание списка текста статей с удаленными стоп-словами и добавление его в набор данных\n",
    "4. Получение лемматизированного списка и добавление его в набор данных\n",
    "5. Выделение частей речи"
   ]
  },
  {
   "cell_type": "markdown",
   "metadata": {},
   "source": [
    "В набор данных были добавлены предобработанные текстовые данные"
   ]
  },
  {
   "cell_type": "markdown",
   "metadata": {},
   "source": [
    "## 1.6.4 Поиск ключевых слов/n-грамм, векторизация текстов"
   ]
  },
  {
   "cell_type": "markdown",
   "metadata": {},
   "source": [
    "1. Выбраны алгоритмы векторизации\n",
    "2. Выполнена векторизация мешка слов\n",
    "3. Выполнена векторизация TF-IDF\n",
    "4. Выполнена векторизация Word Embeddings\n",
    "5. Добавление ключевых слов, биграмм и триграмм"
   ]
  },
  {
   "cell_type": "markdown",
   "metadata": {},
   "source": [
    "В результате в набор данных были добавлены ключевые слова, биграммы и триграммы."
   ]
  },
  {
   "cell_type": "markdown",
   "metadata": {},
   "source": [
    "## 1.6.5 Разведочный анализ"
   ]
  },
  {
   "cell_type": "markdown",
   "metadata": {},
   "source": [
    "1. Открытие json и создание датафрейма целевой переменной\n",
    "2. Добавление целевой переменной в основной набор данных\n",
    "3. Проведена графическая оценка распределения целевой переменной\n",
    "4. Проведена статическая оценка распределения целевой переменной методом Тест Шапиро-Уилка\n",
    "5. Проведена статическая оценка распределения целевой переменной методом К-квадрат Д’Агостино\n",
    "6. Построен график зависимости темы от рейтинга\n",
    "7. Построен график зависимости темы от месяца публикации\n",
    "8. Визуализация зависимости темы от ключевых слов\n",
    "9. Построен график количества публикаций по названиям компаний\n",
    "10. Построен график количества публикаций по рейтингу"
   ]
  },
  {
   "cell_type": "markdown",
   "metadata": {},
   "source": [
    "Графическая и статическая оценка распределения целевой переменной показала, что распределение переменной не является нормальным / гауссовым."
   ]
  }
 ],
 "metadata": {
  "kernelspec": {
   "display_name": "Python 3",
   "language": "python",
   "name": "python3"
  },
  "language_info": {
   "codemirror_mode": {
    "name": "ipython",
    "version": 3
   },
   "file_extension": ".py",
   "mimetype": "text/x-python",
   "name": "python",
   "nbconvert_exporter": "python",
   "pygments_lexer": "ipython3",
   "version": "3.7.6"
  }
 },
 "nbformat": 4,
 "nbformat_minor": 5
}
